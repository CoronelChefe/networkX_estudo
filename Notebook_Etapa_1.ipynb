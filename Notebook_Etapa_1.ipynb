{
  "nbformat": 4,
  "nbformat_minor": 0,
  "metadata": {
    "colab": {
      "name": "Notebook_Etapa_1.ipynb",
      "provenance": [],
      "mount_file_id": "1W2WH-q43N1-BLUIjuo1SE1_NvcFEfEOP",
      "authorship_tag": "ABX9TyP3oc515YFY6NtKHPHoD68n",
      "include_colab_link": true
    },
    "kernelspec": {
      "name": "python3",
      "display_name": "Python 3"
    },
    "language_info": {
      "name": "python"
    }
  },
  "cells": [
    {
      "cell_type": "markdown",
      "metadata": {
        "id": "view-in-github",
        "colab_type": "text"
      },
      "source": [
        "<a href=\"https://colab.research.google.com/github/CoronelChefe/networkX_estudo/blob/main/Notebook_Etapa_1.ipynb\" target=\"_parent\"><img src=\"https://colab.research.google.com/assets/colab-badge.svg\" alt=\"Open In Colab\"/></a>"
      ]
    },
    {
      "cell_type": "markdown",
      "source": [
        "(![image.png](data:image/png;base64,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))"
      ],
      "metadata": {
        "id": "TDkgDghSouqx"
      }
    },
    {
      "cell_type": "markdown",
      "metadata": {
        "id": "tXK6S9CZYBCP"
      },
      "source": [
        "*SETANDO/GERANDO*"
      ]
    },
    {
      "cell_type": "code",
      "metadata": {
        "id": "QoFuuAPTXTuY"
      },
      "source": [
        "import networkx as nx\n",
        "import matplotlib.pyplot as plt\n",
        "import sys\n",
        "import numpy as np\n",
        "\n",
        "### 1. Criação de um grafo\n",
        "\n",
        "G = nx.Graph()"
      ],
      "execution_count": 1,
      "outputs": []
    },
    {
      "cell_type": "markdown",
      "metadata": {
        "id": "eyTdq0dAYIht"
      },
      "source": [
        "*ADD AEROPORTOS*"
      ]
    },
    {
      "cell_type": "code",
      "metadata": {
        "id": "Nz7Dc26wYMf9"
      },
      "source": [
        "G.add_node('BAH')\n",
        "G.add_node('TLV')\n",
        "G.add_node('MLE')\n",
        "G.add_node('BKK')\n",
        "G.add_node('CMB')\n",
        "G.add_node('KUL')\n",
        "G.add_node('PEK')\n",
        "G.add_node('DXB')\n",
        "G.add_node('HND')\n",
        "G.add_node('HKG')\n",
        "G.add_node('DEL')\n",
        "G.add_node('ICN')\n",
        "G.add_node('CGK')\n",
        "G.add_node('SIN')\n",
        "G.add_node('CAN')\n",
        "G.add_node('PVG')\n",
        "\n",
        "#Lista de vértices\n",
        "\n",
        "#print('Lista de vértices')\n",
        "#print(G.nodes())\n",
        "\n",
        "\n",
        "#Percorre os vértices\n",
        "\n",
        "#print('Percorrendo os Aeroportos:')\n",
        "#for v in G.nodes():\n",
        "  #print(\"\\n\")\n",
        "  #print(v)\n"
      ],
      "execution_count": 2,
      "outputs": []
    },
    {
      "cell_type": "markdown",
      "metadata": {
        "id": "Cchah4mYe6OS"
      },
      "source": [
        "*ADD ROTAS*"
      ]
    },
    {
      "cell_type": "code",
      "metadata": {
        "id": "2-sJa-Wie-La"
      },
      "source": [
        "G.add_edge('BAH','PEK')\n",
        "G.add_edge('BAH','DXB')\n",
        "G.add_edge('BAH','HKG')\n",
        "G.add_edge('BAH','SIN')\n",
        "G.add_edge('TLV','PEK')\n",
        "G.add_edge('TLV','DXB')\n",
        "G.add_edge('TLV','BKK')\n",
        "G.add_edge('MLE','PEK')\n",
        "G.add_edge('MLE','DXB')\n",
        "G.add_edge('MLE','CAN')\n",
        "G.add_edge('MLE','PVG')\n",
        "G.add_edge('BKK','CMB')\n",
        "G.add_edge('BKK','DXB')\n",
        "G.add_edge('BKK','HND')\n",
        "G.add_edge('BKK','ICN')\n",
        "G.add_edge('CMB','PEK')\n",
        "G.add_edge('CMB','PVG')\n",
        "G.add_edge('CMB','CAN')\n",
        "G.add_edge('CMB','DXB')\n",
        "G.add_edge('KUL','DXB')\n",
        "G.add_edge('KUL','HND')\n",
        "G.add_edge('KUL','DEL')\n",
        "G.add_edge('KUL','SIN')\n",
        "G.add_edge('HKG','PEK')\n",
        "G.add_edge('HKG','DEL')\n",
        "G.add_edge('HKG','HND')\n",
        "G.add_edge('HKG','CGK')\n",
        "G.add_edge('HKG','ICN')\n",
        "G.add_edge('HKG','SIN')\n",
        "G.add_edge('DEL','PEK')\n",
        "G.add_edge('DEL','DXB')\n",
        "G.add_edge('DEL','BKK')\n",
        "G.add_edge('DEL','TLV')\n",
        "G.add_edge('DEL','SIN')\n",
        "G.add_edge('DEL','CAN')\n",
        "G.add_edge('DEL','PVG')\n",
        "G.add_edge('ICN','PEK')\n",
        "G.add_edge('ICN','HND')\n",
        "G.add_edge('ICN','DXB')\n",
        "G.add_edge('ICN','CAN')\n",
        "G.add_edge('ICN','PVG')\n",
        "G.add_edge('CGK','PEK')\n",
        "G.add_edge('CGK','DXB')\n",
        "G.add_edge('CGK','CAN')\n",
        "G.add_edge('CGK','HND')\n",
        "\n",
        "#percorre o conjunto de conexões entre os aeroportos\n",
        "\n",
        "#print('Percorrendo as rotas:\\n')\n",
        "#for e in G.edges():\n",
        "  #print('\\n')\n",
        "  #print(e)"
      ],
      "execution_count": 3,
      "outputs": []
    },
    {
      "cell_type": "markdown",
      "metadata": {
        "id": "kGikisT3lB7R"
      },
      "source": [
        "*CONEXÕES*\n"
      ]
    },
    {
      "cell_type": "code",
      "metadata": {
        "id": "Q7lVn5volyA3"
      },
      "source": [
        "#Acessa lista de adjacências\n",
        "\n",
        "#print('Lista de conexões:')\n",
        "#print('As conexões de BAH são:',G['BAH'])\n",
        "#print('As conexões de TLV são:',G['TLV'])\n",
        "#print('As conexões de MLE são:',G['MLE'])\n",
        "#print('As conexões de BKK são:',G['BKK'])\n",
        "#print('As conexões de CMB são:',G['CMB'])\n",
        "#print('As conexões de KUL são:',G['KUL'])\n",
        "#print('As conexões de PEK são:',G['PEK'])\n",
        "#print('As conexões de DXB são:',G['DXB'])\n",
        "#print('As conexões de HND são:',G['HND'])\n",
        "#print('As conexões de HKG são:',G['HKG'])\n",
        "#print('As conexões de DEL são:',G['DEL'])\n",
        "#print('As conexões de ICN são:',G['ICN'])\n",
        "#print('As conexões de CGK são:',G['CGK'])\n",
        "#print('As conexões de SIN são:',G['SIN'])\n",
        "#print('As conexões de CAN são:',G['CAN'])\n",
        "#print('As conexões de PVG são:',G['PVG'])"
      ],
      "execution_count": 4,
      "outputs": []
    },
    {
      "cell_type": "markdown",
      "metadata": {
        "id": "ad6RyEpRn79x"
      },
      "source": [
        "*INFORMAÇÕES DO AEROPORTO*"
      ]
    },
    {
      "cell_type": "code",
      "metadata": {
        "id": "9NG6NVe5siBD"
      },
      "source": [
        "G.nodes[\"BAH\"][\"cidade\"]=\"Manama, Bahrein\"\n",
        "G.nodes[\"TLV\"][\"cidade\"]=\"Tel Aviv, Israel\"\n",
        "G.nodes[\"MLE\"][\"cidade\"]=\"Hulhe Island, Maldivas\"\n",
        "G.nodes[\"BKK\"][\"cidade\"]=\"Bankok, Tailândia\"\n",
        "G.nodes[\"CMB\"][\"cidade\"]=\"Colombo, Sri Lanka\"\n",
        "G.nodes[\"KUL\"][\"cidade\"]=\"Kuala Lumpur, Malaysia\"\n",
        "G.nodes[\"PEK\"][\"cidade\"]=\"Pequim, China\"\n",
        "G.nodes[\"DXB\"][\"cidade\"]=\"Dubai, Qatar\"\n",
        "G.nodes[\"HND\"][\"cidade\"]=\"Tóquio, Japão\"\n",
        "G.nodes[\"HKG\"][\"cidade\"]=\"Hong Kong, Hong Kong\"\n",
        "G.nodes[\"DEL\"][\"cidade\"]=\"Nova Deli, Índia\"\n",
        "G.nodes[\"ICN\"][\"cidade\"]=\"Seul, Coréia Do Sul\"\n",
        "G.nodes[\"CGK\"][\"cidade\"]=\"Jacarta, Indonésia\"\n",
        "G.nodes[\"SIN\"][\"cidade\"]=\"Singapura, Singapura\"\n",
        "G.nodes[\"CAN\"][\"cidade\"]=\"Baiyun, China\"\n",
        "G.nodes[\"PVG\"][\"cidade\"]=\"Xangai, China\"\n",
        "\n",
        "\n",
        "#print(\"Insira o código do aeroporto para consulta:\")\n",
        "#G.nodes[input()][\"cidade\"]"
      ],
      "execution_count": 5,
      "outputs": []
    },
    {
      "cell_type": "markdown",
      "metadata": {
        "id": "NoJrAyBckxLB"
      },
      "source": [
        "*PLT*"
      ]
    },
    {
      "cell_type": "code",
      "metadata": {
        "id": "TA7Ipwmgkzk4",
        "colab": {
          "base_uri": "https://localhost:8080/",
          "height": 248
        },
        "outputId": "f2e57bd5-7f28-42bb-ce4c-1c3e49323540"
      },
      "source": [
        "### 2. Visualização do grafo\n",
        "\n",
        "\n",
        "nx.draw_networkx(G, pos=nx.spring_layout(G), with_labels= True, font_size=9, font_color=\"black\", node_color=\"orange\", node_size=500)\n",
        "plt.show()"
      ],
      "execution_count": 6,
      "outputs": [
        {
          "output_type": "display_data",
          "data": {
            "text/plain": [
              "<Figure size 432x288 with 1 Axes>"
            ],
            "image/png": "[encoded data removed]"
          },
          "metadata": {}
        }
      ]
    },
    {
      "cell_type": "markdown",
      "source": [
        "**VARREDURA**"
      ],
      "metadata": {
        "id": "7-t93OAlbwBY"
      }
    },
    {
      "cell_type": "code",
      "source": [
        "### 3. Varredura dos nós\n",
        "\n",
        "\n",
        "for i in G.nodes():\n",
        "  print(i)\n",
        "  print(G.nodes[i][\"cidade\"] + \"\\n\")"
      ],
      "metadata": {
        "id": "K6Wk1ZPNVaJ7",
        "colab": {
          "base_uri": "https://localhost:8080/"
        },
        "outputId": "e8687464-1cd4-4747-fa84-99af8b0b9386"
      },
      "execution_count": 7,
      "outputs": [
        {
          "output_type": "stream",
          "name": "stdout",
          "text": [
            "BAH\n",
            "Manama, Bahrein\n",
            "\n",
            "TLV\n",
            "Tel Aviv, Israel\n",
            "\n",
            "MLE\n",
            "Hulhe Island, Maldivas\n",
            "\n",
            "BKK\n",
            "Bankok, Tailândia\n",
            "\n",
            "CMB\n",
            "Colombo, Sri Lanka\n",
            "\n",
            "KUL\n",
            "Kuala Lumpur, Malaysia\n",
            "\n",
            "PEK\n",
            "Pequim, China\n",
            "\n",
            "DXB\n",
            "Dubai, Qatar\n",
            "\n",
            "HND\n",
            "Tóquio, Japão\n",
            "\n",
            "HKG\n",
            "Hong Kong, Hong Kong\n",
            "\n",
            "DEL\n",
            "Nova Deli, Índia\n",
            "\n",
            "ICN\n",
            "Seul, Coréia Do Sul\n",
            "\n",
            "CGK\n",
            "Jacarta, Indonésia\n",
            "\n",
            "SIN\n",
            "Singapura, Singapura\n",
            "\n",
            "CAN\n",
            "Baiyun, China\n",
            "\n",
            "PVG\n",
            "Xangai, China\n",
            "\n"
          ]
        }
      ]
    },
    {
      "cell_type": "markdown",
      "source": [
        "**BUSCA NÓ**\n"
      ],
      "metadata": {
        "id": "lwsoBADsdnOr"
      }
    },
    {
      "cell_type": "code",
      "source": [
        "### 4. Busca nos nós\n",
        "\n",
        "\n",
        "lista_de_códigos = []\n",
        "for i in G.nodes():\n",
        "  lista_de_códigos.append(G.nodes())\n",
        "#print(lista_de_códigos)\n",
        "def info_aeroporto():\n",
        "  h = str(input(\"Insira o código do aeroporto para consulta:\"))\n",
        "  if h in str(lista_de_códigos):\n",
        "    print(\"O aeroport\", h, \"está localizado em\", G.nodes[h][\"cidade\"] + \"\\n\")\n",
        "  else:\n",
        "    print(\"Não existe este aeroporto\")\n",
        "\n",
        "#Informações sobre o aeroporto\n",
        "info_aeroporto()\n"
      ],
      "metadata": {
        "colab": {
          "base_uri": "https://localhost:8080/"
        },
        "id": "m7CJq123ewg3",
        "outputId": "535c579a-cc80-49ac-873f-ef759e9bbc81"
      },
      "execution_count": 8,
      "outputs": [
        {
          "output_type": "stream",
          "name": "stdout",
          "text": [
            "Insira o código do aeroporto para consulta:DXB\n",
            "O aeroport DXB está localizado em Dubai, Qatar\n",
            "\n"
          ]
        }
      ]
    },
    {
      "cell_type": "markdown",
      "source": [
        "**Encontra os vizinhos do aeroporto inicial**"
      ],
      "metadata": {
        "id": "AFshBFzGBBYb"
      }
    },
    {
      "cell_type": "code",
      "source": [
        "#5. Caminho entre nós\n",
        "\n",
        "rota = []\n",
        "def busca(aeroportoA,aeroportoB, aux):\n",
        "  \n",
        "  if (aux):\n",
        "    return\n",
        "  if (aeroportoA in rota):\n",
        "    return\n",
        "\n",
        "  rota.append(aeroportoA)\n",
        "\n",
        "  if (aeroportoB in list(G.neighbors(aeroportoA))):\n",
        "    aux = True\n",
        "    rota.append(aeroportoB)\n",
        "    return aux\n",
        "  else:\n",
        "    for x in list(G.neighbors(aeroportoA)):\n",
        "      y = busca(x,aeroportoB,aux)\n",
        "      if (y):\n",
        "        return\n",
        "      \n",
        "    return"
      ],
      "metadata": {
        "id": "LHQFurQW85jQ"
      },
      "execution_count": 9,
      "outputs": []
    },
    {
      "cell_type": "code",
      "source": [
        "busca(\"MLE\",\"HND\", False)"
      ],
      "metadata": {
        "id": "gOK81N5en6vM"
      },
      "execution_count": 10,
      "outputs": []
    },
    {
      "cell_type": "code",
      "source": [
        "rota"
      ],
      "metadata": {
        "id": "6YmfUa4Z_Zn3",
        "colab": {
          "base_uri": "https://localhost:8080/"
        },
        "outputId": "730025fa-4eed-4c1f-b46a-65978330db76"
      },
      "execution_count": 11,
      "outputs": [
        {
          "output_type": "execute_result",
          "data": {
            "text/plain": [
              "['MLE',\n",
              " 'PEK',\n",
              " 'BAH',\n",
              " 'DXB',\n",
              " 'TLV',\n",
              " 'BKK',\n",
              " 'HND',\n",
              " 'CMB',\n",
              " 'PVG',\n",
              " 'DEL',\n",
              " 'KUL',\n",
              " 'HND',\n",
              " 'ICN',\n",
              " 'HND',\n",
              " 'CAN',\n",
              " 'CGK',\n",
              " 'HND',\n",
              " 'HKG',\n",
              " 'HND']"
            ]
          },
          "metadata": {},
          "execution_count": 11
        }
      ]
    },
    {
      "cell_type": "markdown",
      "source": [
        "**VERIFICA VIZINHANÇA**"
      ],
      "metadata": {
        "id": "G22KyIbw8Pn4"
      }
    },
    {
      "cell_type": "code",
      "source": [
        "# 6. Varredura das arestas\n",
        "\n",
        "\n",
        "viagem = []\n",
        "def conexao(aeroportoA, aeroportoB):\n",
        "  busca(aeroportoA,aeroportoA,False)\n",
        "  if len(viagem) == 2:\n",
        "    return True\n",
        "  else:\n",
        "    \n",
        "    return False\n",
        "conexao(\"DXB\", \"BKK\")"
      ],
      "metadata": {
        "colab": {
          "base_uri": "https://localhost:8080/"
        },
        "id": "6Qb8bUeu8Uf4",
        "outputId": "75756def-01ed-4fe7-e0f1-2b335dc71a5f"
      },
      "execution_count": 12,
      "outputs": [
        {
          "output_type": "execute_result",
          "data": {
            "text/plain": [
              "False"
            ]
          },
          "metadata": {},
          "execution_count": 12
        }
      ]
    }
  ]
}